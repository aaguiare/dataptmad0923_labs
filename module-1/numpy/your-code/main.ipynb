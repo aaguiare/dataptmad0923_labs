{
 "cells": [
  {
   "cell_type": "markdown",
   "metadata": {},
   "source": [
    "# Introduction to NumPy\n",
    "\n",
    "\n",
    "#### 1. Import NumPy under the name np."
   ]
  },
  {
   "cell_type": "code",
   "execution_count": 1,
   "metadata": {},
   "outputs": [],
   "source": [
    "# your code here\n",
    "import numpy as np"
   ]
  },
  {
   "cell_type": "markdown",
   "metadata": {},
   "source": [
    "#### 2. Print your NumPy version."
   ]
  },
  {
   "cell_type": "code",
   "execution_count": 2,
   "metadata": {},
   "outputs": [
    {
     "name": "stdout",
     "output_type": "stream",
     "text": [
      "1.26.0\n"
     ]
    }
   ],
   "source": [
    "# your code here\n",
    "print(np.__version__)"
   ]
  },
  {
   "cell_type": "markdown",
   "metadata": {},
   "source": [
    "#### 3. Generate a 2x3x5 3-dimensional array with random values. Assign the array to variable *a*.\n",
    "**Challenge**: there are at least three easy ways that use numpy to generate random arrays. How many ways can you find?"
   ]
  },
  {
   "cell_type": "code",
   "execution_count": 6,
   "metadata": {},
   "outputs": [
    {
     "data": {
      "text/plain": [
       "array([[[0.47753722, 0.10881931, 0.2854987 , 0.5634007 , 0.94200307],\n",
       "        [0.60862889, 0.41688053, 0.81982269, 0.56683168, 0.87618478],\n",
       "        [0.02046191, 0.27101511, 0.6144113 , 0.2714951 , 0.97478059]],\n",
       "\n",
       "       [[0.76349663, 0.01396995, 0.43306487, 0.32489303, 0.65434124],\n",
       "        [0.62261452, 0.52000296, 0.14521909, 0.93095284, 0.33069321],\n",
       "        [0.96088408, 0.35844871, 0.87474675, 0.90880953, 0.75662757]]])"
      ]
     },
     "execution_count": 6,
     "metadata": {},
     "output_type": "execute_result"
    }
   ],
   "source": [
    "# Method 1\n",
    "a = np.random. rand(2,3,5)\n",
    "a"
   ]
  },
  {
   "cell_type": "code",
   "execution_count": 8,
   "metadata": {},
   "outputs": [
    {
     "data": {
      "text/plain": [
       "array([[[18, 13, 11,  9, 10],\n",
       "        [13, 16, 19, 10, 25],\n",
       "        [17, 10,  0, 17,  8]],\n",
       "\n",
       "       [[19,  7, 10, 12,  6],\n",
       "        [17, 21, 14, 17, 17],\n",
       "        [ 2, 28, 26,  8,  8]]])"
      ]
     },
     "execution_count": 8,
     "metadata": {},
     "output_type": "execute_result"
    }
   ],
   "source": [
    "# Method 2\n",
    "a = np.random. randint(30, size = (2,3,5))\n",
    "a"
   ]
  },
  {
   "cell_type": "code",
   "execution_count": 9,
   "metadata": {},
   "outputs": [
    {
     "data": {
      "text/plain": [
       "array([[[0.25727208, 0.14031605, 0.41563233, 0.84581903, 0.5618588 ],\n",
       "        [0.32229054, 0.0533304 , 0.05032104, 0.73784017, 0.81718324],\n",
       "        [0.79845717, 0.09196001, 0.7453032 , 0.10304892, 0.01772515]],\n",
       "\n",
       "       [[0.11652897, 0.37394046, 0.68286494, 0.51419408, 0.28636048],\n",
       "        [0.05087832, 0.16044687, 0.28687884, 0.36773987, 0.86371531],\n",
       "        [0.85339145, 0.96848385, 0.25874016, 0.31909396, 0.62059717]]])"
      ]
     },
     "execution_count": 9,
     "metadata": {},
     "output_type": "execute_result"
    }
   ],
   "source": [
    "# Method 3\n",
    "a = np.random.random_sample((2,3,5))\n",
    "a"
   ]
  },
  {
   "cell_type": "markdown",
   "metadata": {},
   "source": [
    "#### 4. Print *a*.\n"
   ]
  },
  {
   "cell_type": "code",
   "execution_count": 10,
   "metadata": {},
   "outputs": [
    {
     "name": "stdout",
     "output_type": "stream",
     "text": [
      "[[[0.25727208 0.14031605 0.41563233 0.84581903 0.5618588 ]\n",
      "  [0.32229054 0.0533304  0.05032104 0.73784017 0.81718324]\n",
      "  [0.79845717 0.09196001 0.7453032  0.10304892 0.01772515]]\n",
      "\n",
      " [[0.11652897 0.37394046 0.68286494 0.51419408 0.28636048]\n",
      "  [0.05087832 0.16044687 0.28687884 0.36773987 0.86371531]\n",
      "  [0.85339145 0.96848385 0.25874016 0.31909396 0.62059717]]]\n"
     ]
    }
   ],
   "source": [
    "# your code here\n",
    "print(a)"
   ]
  },
  {
   "cell_type": "markdown",
   "metadata": {},
   "source": [
    "#### 5. Create a 5x2x3 3-dimensional array with all values equaling 1. Assign the array to variable *b*."
   ]
  },
  {
   "cell_type": "code",
   "execution_count": 13,
   "metadata": {},
   "outputs": [],
   "source": [
    "# your code here\n",
    "b = np.ones((5,2,3),dtype=int)"
   ]
  },
  {
   "cell_type": "markdown",
   "metadata": {},
   "source": [
    "#### 6. Print *b*.\n"
   ]
  },
  {
   "cell_type": "code",
   "execution_count": 14,
   "metadata": {},
   "outputs": [
    {
     "name": "stdout",
     "output_type": "stream",
     "text": [
      "[[[1 1 1]\n",
      "  [1 1 1]]\n",
      "\n",
      " [[1 1 1]\n",
      "  [1 1 1]]\n",
      "\n",
      " [[1 1 1]\n",
      "  [1 1 1]]\n",
      "\n",
      " [[1 1 1]\n",
      "  [1 1 1]]\n",
      "\n",
      " [[1 1 1]\n",
      "  [1 1 1]]]\n"
     ]
    }
   ],
   "source": [
    "# your code here\n",
    "print(b)"
   ]
  },
  {
   "cell_type": "markdown",
   "metadata": {},
   "source": [
    "#### 7. Do *a* and *b* have the same size? How do you prove that in Python code?"
   ]
  },
  {
   "cell_type": "code",
   "execution_count": 16,
   "metadata": {},
   "outputs": [
    {
     "data": {
      "text/plain": [
       "False"
      ]
     },
     "execution_count": 16,
     "metadata": {},
     "output_type": "execute_result"
    }
   ],
   "source": [
    "# your code here\n",
    "len(a) == len(b)"
   ]
  },
  {
   "cell_type": "markdown",
   "metadata": {},
   "source": [
    "#### 8. Are you able to add *a* and *b*? Why or why not?\n"
   ]
  },
  {
   "cell_type": "code",
   "execution_count": 17,
   "metadata": {},
   "outputs": [
    {
     "ename": "ValueError",
     "evalue": "operands could not be broadcast together with shapes (2,3,5) (5,2,3) ",
     "output_type": "error",
     "traceback": [
      "\u001b[0;31m---------------------------------------------------------------------------\u001b[0m",
      "\u001b[0;31mValueError\u001b[0m                                Traceback (most recent call last)",
      "Cell \u001b[0;32mIn[17], line 2\u001b[0m\n\u001b[1;32m      1\u001b[0m \u001b[38;5;66;03m# your answer here\u001b[39;00m\n\u001b[0;32m----> 2\u001b[0m abarray \u001b[38;5;241m=\u001b[39m \u001b[43mnp\u001b[49m\u001b[38;5;241;43m.\u001b[39;49m\u001b[43madd\u001b[49m\u001b[43m(\u001b[49m\u001b[43ma\u001b[49m\u001b[43m,\u001b[49m\u001b[43mb\u001b[49m\u001b[43m)\u001b[49m\n\u001b[1;32m      3\u001b[0m abarray\n",
      "\u001b[0;31mValueError\u001b[0m: operands could not be broadcast together with shapes (2,3,5) (5,2,3) "
     ]
    }
   ],
   "source": [
    "# your answer here\n",
    "#no as they have different shape, ValueError is the proof\n",
    "abarray = np.add(a,b)\n",
    "abarray"
   ]
  },
  {
   "cell_type": "markdown",
   "metadata": {},
   "source": [
    "#### 9. Transpose *b* so that it has the same structure of *a* (i.e. become a 2x3x5 array). Assign the transposed array to variable *c*."
   ]
  },
  {
   "cell_type": "code",
   "execution_count": 21,
   "metadata": {},
   "outputs": [
    {
     "data": {
      "text/plain": [
       "array([[[1, 1, 1, 1, 1],\n",
       "        [1, 1, 1, 1, 1],\n",
       "        [1, 1, 1, 1, 1]],\n",
       "\n",
       "       [[1, 1, 1, 1, 1],\n",
       "        [1, 1, 1, 1, 1],\n",
       "        [1, 1, 1, 1, 1]]])"
      ]
     },
     "execution_count": 21,
     "metadata": {},
     "output_type": "execute_result"
    }
   ],
   "source": [
    "# your code here\n",
    "c = np.transpose(b,(1,2,0))\n",
    "c"
   ]
  },
  {
   "cell_type": "markdown",
   "metadata": {},
   "source": [
    "#### 10. Try to add *a* and *c*. Now it should work. Assign the sum to variable *d*. But why does it work now?"
   ]
  },
  {
   "cell_type": "code",
   "execution_count": 22,
   "metadata": {},
   "outputs": [
    {
     "data": {
      "text/plain": [
       "array([[[1.25727208, 1.14031605, 1.41563233, 1.84581903, 1.5618588 ],\n",
       "        [1.32229054, 1.0533304 , 1.05032104, 1.73784017, 1.81718324],\n",
       "        [1.79845717, 1.09196001, 1.7453032 , 1.10304892, 1.01772515]],\n",
       "\n",
       "       [[1.11652897, 1.37394046, 1.68286494, 1.51419408, 1.28636048],\n",
       "        [1.05087832, 1.16044687, 1.28687884, 1.36773987, 1.86371531],\n",
       "        [1.85339145, 1.96848385, 1.25874016, 1.31909396, 1.62059717]]])"
      ]
     },
     "execution_count": 22,
     "metadata": {},
     "output_type": "execute_result"
    }
   ],
   "source": [
    "# your code/answer here\n",
    "#They have the same shape, so they can be added\n",
    "d = np.add(a,c)\n",
    "d"
   ]
  },
  {
   "cell_type": "markdown",
   "metadata": {},
   "source": [
    "#### 11. Print *a* and *d*. Notice the difference and relation of the two array in terms of the values? Explain."
   ]
  },
  {
   "cell_type": "code",
   "execution_count": 42,
   "metadata": {},
   "outputs": [
    {
     "name": "stdout",
     "output_type": "stream",
     "text": [
      "[[[0.25727208 0.14031605 0.41563233 0.84581903 0.5618588 ]\n",
      "  [0.32229054 0.0533304  0.05032104 0.73784017 0.81718324]\n",
      "  [0.79845717 0.09196001 0.7453032  0.10304892 0.01772515]]\n",
      "\n",
      " [[0.11652897 0.37394046 0.68286494 0.51419408 0.28636048]\n",
      "  [0.05087832 0.16044687 0.28687884 0.36773987 0.86371531]\n",
      "  [0.85339145 0.96848385 0.25874016 0.31909396 0.62059717]]]\n",
      "[[[1.25727208 1.14031605 1.41563233 1.84581903 1.5618588 ]\n",
      "  [1.32229054 1.0533304  1.05032104 1.73784017 1.81718324]\n",
      "  [1.79845717 1.09196001 1.7453032  1.10304892 1.01772515]]\n",
      "\n",
      " [[1.11652897 1.37394046 1.68286494 1.51419408 1.28636048]\n",
      "  [1.05087832 1.16044687 1.28687884 1.36773987 1.86371531]\n",
      "  [1.85339145 1.96848385 1.25874016 1.31909396 1.62059717]]]\n"
     ]
    }
   ],
   "source": [
    "# your code/answer here\n",
    "#The difference in value is c, maiantaining the same shape\n",
    "print(a)\n",
    "print(d)"
   ]
  },
  {
   "cell_type": "markdown",
   "metadata": {},
   "source": [
    "#### 12. Multiply *a* and *c*. Assign the result to *e*."
   ]
  },
  {
   "cell_type": "code",
   "execution_count": 25,
   "metadata": {},
   "outputs": [
    {
     "data": {
      "text/plain": [
       "array([[[0.25727208, 0.14031605, 0.41563233, 0.84581903, 0.5618588 ],\n",
       "        [0.32229054, 0.0533304 , 0.05032104, 0.73784017, 0.81718324],\n",
       "        [0.79845717, 0.09196001, 0.7453032 , 0.10304892, 0.01772515]],\n",
       "\n",
       "       [[0.11652897, 0.37394046, 0.68286494, 0.51419408, 0.28636048],\n",
       "        [0.05087832, 0.16044687, 0.28687884, 0.36773987, 0.86371531],\n",
       "        [0.85339145, 0.96848385, 0.25874016, 0.31909396, 0.62059717]]])"
      ]
     },
     "execution_count": 25,
     "metadata": {},
     "output_type": "execute_result"
    }
   ],
   "source": [
    "# your code here\n",
    "e = np.multiply(a,c)\n",
    "e"
   ]
  },
  {
   "cell_type": "markdown",
   "metadata": {},
   "source": [
    "#### 13. Does *e* equal to *a*? Why or why not?\n"
   ]
  },
  {
   "cell_type": "code",
   "execution_count": 27,
   "metadata": {},
   "outputs": [
    {
     "data": {
      "text/plain": [
       "array([[[ True,  True,  True,  True,  True],\n",
       "        [ True,  True,  True,  True,  True],\n",
       "        [ True,  True,  True,  True,  True]],\n",
       "\n",
       "       [[ True,  True,  True,  True,  True],\n",
       "        [ True,  True,  True,  True,  True],\n",
       "        [ True,  True,  True,  True,  True]]])"
      ]
     },
     "execution_count": 27,
     "metadata": {},
     "output_type": "execute_result"
    }
   ],
   "source": [
    "# your code/answer here\n",
    "#Yes, because c is a matrix of ones, the multiply results in the same number\n",
    "e == a"
   ]
  },
  {
   "cell_type": "markdown",
   "metadata": {},
   "source": [
    "#### 14. Identify the max, min, and mean values in *d*. Assign those values to variables *d_max*, *d_min* and *d_mean*."
   ]
  },
  {
   "cell_type": "code",
   "execution_count": 41,
   "metadata": {},
   "outputs": [
    {
     "name": "stdout",
     "output_type": "stream",
     "text": [
      "1.9684838501731692\n",
      "1.0177251506089915\n",
      "1.4227404281763816\n"
     ]
    }
   ],
   "source": [
    "# your code here\n",
    "d_max = np.max(d)\n",
    "d_min = np.min(d)\n",
    "d_mean = np.mean(d)\n",
    "print(d_max) \n",
    "print(d_min)\n",
    "print(d_mean)"
   ]
  },
  {
   "cell_type": "markdown",
   "metadata": {},
   "source": [
    "#### 15. Now we want to label the values in *d*. First create an empty array *f* with the same shape (i.e. 2x3x5) as *d* using `np.empty`.\n"
   ]
  },
  {
   "cell_type": "code",
   "execution_count": 39,
   "metadata": {},
   "outputs": [
    {
     "data": {
      "text/plain": [
       "array([[[0.25727208, 0.14031605, 0.41563233, 0.84581903, 0.5618588 ],\n",
       "        [0.32229054, 0.0533304 , 0.05032104, 0.73784017, 0.81718324],\n",
       "        [0.79845717, 0.09196001, 0.7453032 , 0.10304892, 0.01772515]],\n",
       "\n",
       "       [[0.11652897, 0.37394046, 0.68286494, 0.51419408, 0.28636048],\n",
       "        [0.05087832, 0.16044687, 0.28687884, 0.36773987, 0.86371531],\n",
       "        [0.85339145, 0.96848385, 0.25874016, 0.31909396, 0.62059717]]])"
      ]
     },
     "execution_count": 39,
     "metadata": {},
     "output_type": "execute_result"
    }
   ],
   "source": [
    "# your code here\n",
    "f = np.empty([2,3,5])\n",
    "f"
   ]
  },
  {
   "cell_type": "markdown",
   "metadata": {},
   "source": [
    "#### 16. Populate the values in *f*. \n",
    "\n",
    "For each value in *d*, if it's larger than *d_min* but smaller than *d_mean*, assign 25 to the corresponding value in *f*. If a value in *d* is larger than *d_mean* but smaller than *d_max*, assign 75 to the corresponding value in *f*. If a value equals to *d_mean*, assign 50 to the corresponding value in *f*. Assign 0 to the corresponding value(s) in *f* for *d_min* in *d*. Assign 100 to the corresponding value(s) in *f* for *d_max* in *d*. In the end, f should have only the following values: 0, 25, 50, 75, and 100.\n",
    "\n",
    "**Note**: you don't have to use Numpy in this question."
   ]
  },
  {
   "cell_type": "code",
   "execution_count": 46,
   "metadata": {},
   "outputs": [
    {
     "name": "stdout",
     "output_type": "stream",
     "text": [
      "[[[ 25.  25.  25.  75.  75.]\n",
      "  [ 25.  25.  25.  75.  75.]\n",
      "  [ 75.  25.  75.  25.   0.]]\n",
      "\n",
      " [[ 25.  25.  75.  75.  25.]\n",
      "  [ 25.  25.  25.  25.  75.]\n",
      "  [ 75. 100.  25.  25.  75.]]]\n"
     ]
    }
   ],
   "source": [
    "# your code here\n",
    "f[np.where(d == d_min)] = 0\n",
    "f[np.where(d == d_max)] = 100\n",
    "f[np.where(d == d_mean)] = 50\n",
    "f[np.where((d_mean > d) & (d > d_min))] = 25\n",
    "f[np.where((d_mean < d) & (d < d_max))] = 75\n",
    "print(f)"
   ]
  },
  {
   "cell_type": "markdown",
   "metadata": {},
   "source": [
    "#### 17. Print *d* and *f*. Do you have your expected *f*?\n",
    "For instance, if your *d* is:\n",
    "```python\n",
    "[[[1.85836099, 1.67064465, 1.62576044, 1.40243961, 1.88454931],\n",
    "[1.75354326, 1.69403643, 1.36729252, 1.61415071, 1.12104981],\n",
    "[1.72201435, 1.1862918 , 1.87078449, 1.7726778 , 1.88180042]],\n",
    "[[1.44747908, 1.31673383, 1.02000951, 1.52218947, 1.97066381],\n",
    "[1.79129243, 1.74983003, 1.96028037, 1.85166831, 1.65450881],\n",
    "[1.18068344, 1.9587381 , 1.00656599, 1.93402165, 1.73514584]]]\n",
    "```\n",
    "Your *f* should be:\n",
    "```python\n",
    "[[[ 75.,  75.,  75.,  25.,  75.],\n",
    "[ 75.,  75.,  25.,  25.,  25.],\n",
    "[ 75.,  25.,  75.,  75.,  75.]],\n",
    "[[ 25.,  25.,  25.,  25., 100.],\n",
    "[ 75.,  75.,  75.,  75.,  75.],\n",
    "[ 25.,  75.,   0.,  75.,  75.]]]\n",
    "```"
   ]
  },
  {
   "cell_type": "code",
   "execution_count": 47,
   "metadata": {},
   "outputs": [
    {
     "name": "stdout",
     "output_type": "stream",
     "text": [
      "[[[1.25727208 1.14031605 1.41563233 1.84581903 1.5618588 ]\n",
      "  [1.32229054 1.0533304  1.05032104 1.73784017 1.81718324]\n",
      "  [1.79845717 1.09196001 1.7453032  1.10304892 1.01772515]]\n",
      "\n",
      " [[1.11652897 1.37394046 1.68286494 1.51419408 1.28636048]\n",
      "  [1.05087832 1.16044687 1.28687884 1.36773987 1.86371531]\n",
      "  [1.85339145 1.96848385 1.25874016 1.31909396 1.62059717]]]\n",
      "[[[ 25.  25.  25.  75.  75.]\n",
      "  [ 25.  25.  25.  75.  75.]\n",
      "  [ 75.  25.  75.  25.   0.]]\n",
      "\n",
      " [[ 25.  25.  75.  75.  25.]\n",
      "  [ 25.  25.  25.  25.  75.]\n",
      "  [ 75. 100.  25.  25.  75.]]]\n"
     ]
    }
   ],
   "source": [
    "# your code here\n",
    "print(d)\n",
    "print(f)"
   ]
  },
  {
   "cell_type": "markdown",
   "metadata": {},
   "source": [
    "#### 18. Bonus question: instead of using numbers (i.e. 0, 25, 50, 75, and 100), use string values  (\"A\", \"B\", \"C\", \"D\", and \"E\") to label the array elements. For the example above, the expected result is:\n",
    "\n",
    "```python\n",
    "[[[ 'D',  'D',  'D',  'B',  'D'],\n",
    "[ 'D',  'D',  'B',  'B',  'B'],\n",
    "[ 'D',  'B',  'D',  'D',  'D']],\n",
    "[[ 'B',  'B',  'B',  'B',  'E'],\n",
    "[ 'D',  'D',  'D',  'D',  'D'],\n",
    "[ 'B',  'D',   'A',  'D', 'D']]]\n",
    "```\n",
    "**Note**: you don't have to use Numpy in this question."
   ]
  },
  {
   "cell_type": "code",
   "execution_count": 50,
   "metadata": {},
   "outputs": [
    {
     "name": "stdout",
     "output_type": "stream",
     "text": [
      "[[['B' 'B' 'B' 'D' 'D']\n",
      "  ['B' 'B' 'B' 'D' 'D']\n",
      "  ['D' 'B' 'D' 'B' 'A']]\n",
      "\n",
      " [['B' 'B' 'D' 'D' 'B']\n",
      "  ['B' 'B' 'B' 'B' 'D']\n",
      "  ['D' 'E' 'B' 'B' 'D']]]\n"
     ]
    }
   ],
   "source": [
    "# your code here\n",
    "g = np.empty([2,3,5], dtype = str)\n",
    "g[np.where(d == d_min)] = \"A\"\n",
    "g[np.where(d == d_max)] = \"E\"\n",
    "g[np.where(d == d_mean)] = \"C\"\n",
    "g[np.where((d_mean > d) & (d > d_min))] = \"B\"\n",
    "g[np.where((d_mean < d) & (d < d_max))] = \"D\"\n",
    "print(g)"
   ]
  }
 ],
 "metadata": {
  "kernelspec": {
   "display_name": "Python (m1_env)",
   "language": "python",
   "name": "m1_env"
  },
  "language_info": {
   "codemirror_mode": {
    "name": "ipython",
    "version": 3
   },
   "file_extension": ".py",
   "mimetype": "text/x-python",
   "name": "python",
   "nbconvert_exporter": "python",
   "pygments_lexer": "ipython3",
   "version": "3.10.13"
  }
 },
 "nbformat": 4,
 "nbformat_minor": 2
}
